{
 "cells": [
  {
   "cell_type": "code",
   "execution_count": 1,
   "id": "cc651011-4025-4e73-89fa-3a1bda49b281",
   "metadata": {},
   "outputs": [],
   "source": [
    "import pandas as pd\n",
    "import seaborn as sns\n",
    "import matplotlib.pyplot as plt\n",
    "from sklearn.feature_extraction import DictVectorizer\n",
    "from sklearn.linear_model import LinearRegression\n",
    "from sklearn.linear_model import Lasso\n",
    "from sklearn.metrics import root_mean_squared_error"
   ]
  },
  {
   "cell_type": "markdown",
   "id": "d7595dec-cd11-44b6-9483-976f56b584a7",
   "metadata": {},
   "source": [
    "## QUESTION 1 : Downloading the data\n",
    "Read the data for January. How many columns are there?"
   ]
  },
  {
   "cell_type": "code",
   "execution_count": 2,
   "id": "c79b4c36-46f2-428e-be89-ecab8be2effd",
   "metadata": {},
   "outputs": [],
   "source": [
    "df_train = pd.read_parquet('https://d37ci6vzurychx.cloudfront.net/trip-data/yellow_tripdata_2023-01.parquet')\n",
    "df_val = pd.read_parquet('https://d37ci6vzurychx.cloudfront.net/trip-data/yellow_tripdata_2023-02.parquet')"
   ]
  },
  {
   "cell_type": "code",
   "execution_count": 3,
   "id": "fe01027f-77af-4c42-86a7-075119feadce",
   "metadata": {
    "scrolled": true
   },
   "outputs": [
    {
     "data": {
      "text/plain": [
       "(Index(['VendorID', 'tpep_pickup_datetime', 'tpep_dropoff_datetime',\n",
       "        'passenger_count', 'trip_distance', 'RatecodeID', 'store_and_fwd_flag',\n",
       "        'PULocationID', 'DOLocationID', 'payment_type', 'fare_amount', 'extra',\n",
       "        'mta_tax', 'tip_amount', 'tolls_amount', 'improvement_surcharge',\n",
       "        'total_amount', 'congestion_surcharge', 'airport_fee'],\n",
       "       dtype='object'),\n",
       " 19)"
      ]
     },
     "execution_count": 3,
     "metadata": {},
     "output_type": "execute_result"
    }
   ],
   "source": [
    "df_train.columns,len(df_train.columns)"
   ]
  },
  {
   "cell_type": "markdown",
   "id": "b26fdac7-a0ce-45d9-a9b6-c4f3976c7718",
   "metadata": {},
   "source": [
    "## QUESTION 2 : Computing Duration\n",
    "Now let's compute the duration variable. It should contain the duration of a ride in minutes.<br>\n",
    "What's the standard deviation of the trips duration in January?\n"
   ]
  },
  {
   "cell_type": "code",
   "execution_count": 4,
   "id": "0ac9fd2a-1827-4570-9b99-6bda604db834",
   "metadata": {},
   "outputs": [
    {
     "data": {
      "text/plain": [
       "42.59435124195458"
      ]
     },
     "execution_count": 4,
     "metadata": {},
     "output_type": "execute_result"
    }
   ],
   "source": [
    "df_train['duration'] = df_train.tpep_dropoff_datetime - df_train.tpep_pickup_datetime\n",
    "df_train.duration = df_train.duration.apply(lambda td: td.total_seconds() / 60)\n",
    "df_train['duration'].std()"
   ]
  },
  {
   "cell_type": "markdown",
   "id": "2f12173e-4e82-4d8e-8383-11daa1e01af3",
   "metadata": {},
   "source": [
    "## QUESTION 3 : Dropping Outliers\n",
    "Next, we need to check the distribution of the duration variable. There are some outliers. Let's remove them and keep only the records where the duration was between 1 and 60 minutes (inclusive).<br>\n",
    "\n",
    "What fraction of the records left after you dropped the outliers?"
   ]
  },
  {
   "cell_type": "code",
   "execution_count": 5,
   "id": "d13510ba-1a93-44ab-83e5-9a2df2b7ad3e",
   "metadata": {},
   "outputs": [
    {
     "data": {
      "text/plain": [
       "98.1220282212598"
      ]
     },
     "execution_count": 5,
     "metadata": {},
     "output_type": "execute_result"
    }
   ],
   "source": [
    "(len(df_train[(df_train.duration>=1)&(df_train.duration<=60)])/len(df_train))*100"
   ]
  },
  {
   "cell_type": "code",
   "execution_count": 6,
   "id": "f6749192-269b-4a95-bbc8-b08a86e0c707",
   "metadata": {},
   "outputs": [],
   "source": [
    "df_train = df_train[(df_train.duration >= 1) & (df_train.duration <= 60)]"
   ]
  },
  {
   "cell_type": "markdown",
   "id": "e6cd8fa2-08cb-4038-a135-9d7714598555",
   "metadata": {},
   "source": [
    "## QUESTION 4 : One-hot Encoding\n",
    "Let's apply one-hot encoding to the pickup and dropoff location IDs. We'll use only these two features for our model.<br>\n",
    "\n",
    "<ul><li>Turn the dataframe into a list of dictionaries (remember to re-cast the ids to strings - otherwise it will label encode them)</li>\n",
    "<li>Fit a dictionary vectorizer</li>\n",
    "<li>Get a feature matrix from it</li></ul>\n",
    "What's the dimensionality of this matrix (number of columns)?"
   ]
  },
  {
   "cell_type": "code",
   "execution_count": 7,
   "id": "3bb23190-7d8b-41ec-9a3c-bed63acca93c",
   "metadata": {},
   "outputs": [],
   "source": [
    "categorical = ['PULocationID', 'DOLocationID']\n",
    "\n",
    "df_train[categorical] = df_train[categorical].astype(str)\n",
    "\n",
    "train_dicts = df_train[categorical].to_dict(orient='records')\n",
    "\n",
    "dv = DictVectorizer()\n",
    "X_train = dv.fit_transform(train_dicts)"
   ]
  },
  {
   "cell_type": "code",
   "execution_count": 8,
   "id": "2de8df17-0241-4fd0-80e1-e4ec28103563",
   "metadata": {},
   "outputs": [
    {
     "data": {
      "text/plain": [
       "(3009173, 515)"
      ]
     },
     "execution_count": 8,
     "metadata": {},
     "output_type": "execute_result"
    }
   ],
   "source": [
    "X_train.shape"
   ]
  },
  {
   "cell_type": "markdown",
   "id": "0acba205-eb07-42c4-8060-8308e35b397b",
   "metadata": {},
   "source": [
    "## QUESTION 5 : Training a Model\n",
    "Now let's use the feature matrix from the previous step to train a model.\n",
    "\n",
    "<ul><li>Train a plain linear regression model with default parameters, where duration is the response variable</li>\n",
    "<li>Calculate the RMSE of the model on the training data</li></ul>\n",
    "What's the RMSE on train?"
   ]
  },
  {
   "cell_type": "code",
   "execution_count": 9,
   "id": "b6115874-e60c-41e0-910e-bbbb4ee8f33d",
   "metadata": {},
   "outputs": [],
   "source": [
    "target = 'duration'\n",
    "y_train = df_train[target].values"
   ]
  },
  {
   "cell_type": "code",
   "execution_count": null,
   "id": "6f689a0e-a2cf-4465-8234-a7450894948f",
   "metadata": {},
   "outputs": [],
   "source": [
    "lr = LinearRegression()\n",
    "lr.fit(X_train, y_train)"
   ]
  },
  {
   "cell_type": "code",
   "execution_count": null,
   "id": "59fb6123-3f95-4b10-8977-13b820c2ad81",
   "metadata": {},
   "outputs": [],
   "source": [
    "y_train_pred = lr.predict(X_train)\n",
    "root_mean_squared_error(y_train, y_train_pred)"
   ]
  },
  {
   "cell_type": "markdown",
   "id": "332d95d4-0232-4f3b-99a1-9b3f4c1ac84f",
   "metadata": {},
   "source": [
    "## QUESTION 6 : Evaluating the Model\n",
    "\n",
    "Now let's apply this model to the validation dataset (February 2023).<br>\n",
    "\n",
    "What's the RMSE on validation?"
   ]
  },
  {
   "cell_type": "code",
   "execution_count": null,
   "id": "94c78e50-ec23-4596-ad99-f34f3d195495",
   "metadata": {},
   "outputs": [],
   "source": [
    "df_val['duration'] = df_val.tpep_dropoff_datetime - df_val.tpep_pickup_datetime\n",
    "df_val.duration = df_val.duration.apply(lambda td: td.total_seconds() / 60)\n",
    "df_val = df_val[(df_val.duration >= 1) & (df_val.duration <= 60)]\n"
   ]
  },
  {
   "cell_type": "code",
   "execution_count": null,
   "id": "77179fd6-4a5c-4af2-bd11-d5df818e1685",
   "metadata": {},
   "outputs": [],
   "source": [
    "df_val[categorical] = df_val[categorical].astype(str)\n",
    "val_dicts = df_val[categorical].to_dict(orient='records')\n",
    "\n",
    "X_val = dv.transform(val_dicts)"
   ]
  },
  {
   "cell_type": "code",
   "execution_count": null,
   "id": "986a8b02-a424-443b-9a1f-2072051af267",
   "metadata": {},
   "outputs": [],
   "source": [
    "y_val = df_val[target].values"
   ]
  },
  {
   "cell_type": "code",
   "execution_count": null,
   "id": "62a953e9-e2c1-42b0-b13e-27d411c61f72",
   "metadata": {},
   "outputs": [],
   "source": [
    "y_val_pred = lr.predict(X_val)\n",
    "root_mean_squared_error(y_val, y_val_pred)"
   ]
  }
 ],
 "metadata": {
  "kernelspec": {
   "display_name": "Python 3 (ipykernel)",
   "language": "python",
   "name": "python3"
  },
  "language_info": {
   "codemirror_mode": {
    "name": "ipython",
    "version": 3
   },
   "file_extension": ".py",
   "mimetype": "text/x-python",
   "name": "python",
   "nbconvert_exporter": "python",
   "pygments_lexer": "ipython3",
   "version": "3.10.13"
  }
 },
 "nbformat": 4,
 "nbformat_minor": 5
}
