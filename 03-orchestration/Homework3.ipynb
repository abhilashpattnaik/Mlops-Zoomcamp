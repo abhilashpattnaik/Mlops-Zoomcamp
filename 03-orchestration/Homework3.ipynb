{
 "cells": [
  {
   "cell_type": "markdown",
   "metadata": {},
   "source": [
    "### Question 1. Run Mage\n",
    "First, let's run Mage with Docker Compose. Follow the quick start guideline.\n",
    "What's the version of Mage we run?\n",
    "\n",
    "Answer : 0.9.70\n",
    "\n",
    "![alt text](<Screenshot from 2024-06-11 12-25-05.png>)"
   ]
  },
  {
   "cell_type": "markdown",
   "metadata": {},
   "source": [
    "### Question 2. Creating a project\n",
    "Now let's create a new project. We can call it \"homework_03\", for example.\n",
    "How many lines are in the created metadata.yaml file?\n",
    "\n",
    "Answer : 55\n",
    "\n",
    "![alt text](<Screenshot from 2024-06-11 12-27-25.png>)"
   ]
  },
  {
   "cell_type": "markdown",
   "metadata": {},
   "source": [
    "### Question 3. Creating a pipeline\n",
    "Let's create an ingestion code block.\n",
    "In this block, we will read the March 2023 Yellow taxi trips data.\n",
    "How many records did we load?\n",
    "\n",
    "Answer : 3403766\n",
    "\n",
    "![alt text](<Screenshot from 2024-06-11 12-30-23.png>)\n"
   ]
  },
  {
   "cell_type": "markdown",
   "metadata": {},
   "source": [
    "### Question 4. Data preparation\n",
    "What's the size of the result?\n",
    "\n",
    "Answer : 3316216\n",
    "\n",
    "![alt text](<Screenshot from 2024-06-11 12-32-39.png>)"
   ]
  },
  {
   "cell_type": "markdown",
   "metadata": {},
   "source": [
    "### Question 5. Train a model\n",
    "What's the intercept of the model?\n",
    "\n",
    "Answer : 24.77\n",
    "\n",
    "![alt text](<Screenshot from 2024-06-11 12-40-13.png>)"
   ]
  },
  {
   "cell_type": "markdown",
   "metadata": {},
   "source": [
    "### Question 6. Register the model\n",
    "Find the logged model, and find MLModel file. What's the size of the model? (model_size_bytes field)\n",
    "\n",
    "Answer : 4534\n",
    "\n",
    "![alt text](<Screenshot from 2024-06-11 12-37-08.png>)"
   ]
  }
 ],
 "metadata": {
  "language_info": {
   "name": "python"
  }
 },
 "nbformat": 4,
 "nbformat_minor": 2
}
